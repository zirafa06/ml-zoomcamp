{
 "cells": [
  {
   "cell_type": "markdown",
   "id": "69697108",
   "metadata": {},
   "source": [
    "<span style='font-family:\"Times New Roman\"'><font size=\"3\">ML-zoomcamp Data talks cours 4 : </font></span>\n",
    "<br />\n",
    "<br />\n",
    "<br />\n",
    "<br />\n",
    "<span style='font-family:\"Times New Roman\"'><div align=\"center\"><font size=\"6\">**Evaluation du modèle**</font></div></span>\n",
    "<br /><br />\n",
    "<span style='font-family:\"Times New Roman\"'><font size=\"5\"><div align=\"right\">*2 - 9 oct 2023*</div></font></span>\n",
    "<br />\n",
    "[cours](https://github.com/DataTalksClub/machine-learning-zoomcamp/tree/master/04-evaluation)<br />\n",
    "[ennoncé du devoir](https://github.com/DataTalksClub/machine-learning-zoomcamp/blob/master/cohorts/2023/04-evaluation/homework.md)</font></span></div>\n",
    "<br />\n",
    "_____\n",
    "<span style='color:blue'></span>\n",
    "<br />\n",
    "<br />"
   ]
  },
  {
   "cell_type": "markdown",
   "id": "64dbca10",
   "metadata": {},
   "source": [
    "Note: sometimes your answer doesn't match one of the options exactly. That's fine. Select the option that's closest to your solution.\n",
    "\n",
    "In this homework, we will use the Car price dataset like last week. Download it from [here](https://raw.githubusercontent.com/alexeygrigorev/mlbookcamp-code/master/chapter-02-car-price/data.csv).\n",
    "\n",
    "Or you can do it with wget:\n",
    "\n",
    "wget https://raw.githubusercontent.com/alexeygrigorev/mlbookcamp-code/master/chapter-02-car-price/data.csv\n",
    "\n",
    "We'll work with the MSRP variable, and we'll transform it to a classification task.\n",
    "\n",
    "For the rest of the homework, you'll need to use only these columns:\n",
    "\n",
    "    Make,\n",
    "    Model,\n",
    "    Year,\n",
    "    Engine HP,\n",
    "    Engine Cylinders,\n",
    "    Transmission Type,\n",
    "    Vehicle Style,\n",
    "    highway MPG,\n",
    "    city mpg\n",
    "    MSRP\n"
   ]
  },
  {
   "cell_type": "code",
   "execution_count": 1,
   "id": "81842238",
   "metadata": {},
   "outputs": [],
   "source": [
    "import numpy as np\n",
    "import pandas as pd\n",
    "import matplotlib.pyplot as plt\n",
    "import seaborn as sns"
   ]
  },
  {
   "cell_type": "code",
   "execution_count": 2,
   "id": "ce822fdd",
   "metadata": {},
   "outputs": [],
   "source": [
    "df = pd.read_csv('https://raw.githubusercontent.com/alexeygrigorev/mlbookcamp-code/master/chapter-02-car-price/data.csv')"
   ]
  },
  {
   "cell_type": "markdown",
   "id": "f560539e",
   "metadata": {},
   "source": [
    "Data preparation\n",
    "\n",
    "    Keep only the columns above\n",
    "    Lowercase the column names and replace spaces with underscores\n",
    "    Fill the missing values with 0\n",
    "    Make the price binary (1 if above the average, 0 otherwise) - this will be our target variable above_average\n",
    "\n",
    "Split the data into 3 parts: train/validation/test with 60%/20%/20% distribution. Use train_test_split function for that with random_state=1"
   ]
  },
  {
   "cell_type": "code",
   "execution_count": 3,
   "id": "194b974d",
   "metadata": {},
   "outputs": [
    {
     "data": {
      "text/html": [
       "<div>\n",
       "<style scoped>\n",
       "    .dataframe tbody tr th:only-of-type {\n",
       "        vertical-align: middle;\n",
       "    }\n",
       "\n",
       "    .dataframe tbody tr th {\n",
       "        vertical-align: top;\n",
       "    }\n",
       "\n",
       "    .dataframe thead th {\n",
       "        text-align: right;\n",
       "    }\n",
       "</style>\n",
       "<table border=\"1\" class=\"dataframe\">\n",
       "  <thead>\n",
       "    <tr style=\"text-align: right;\">\n",
       "      <th></th>\n",
       "      <th>make</th>\n",
       "      <th>model</th>\n",
       "      <th>year</th>\n",
       "      <th>engine_hp</th>\n",
       "      <th>engine_cylinders</th>\n",
       "      <th>transmission_type</th>\n",
       "      <th>vehicle_style</th>\n",
       "      <th>highway_mpg</th>\n",
       "      <th>city_mpg</th>\n",
       "      <th>above_average</th>\n",
       "    </tr>\n",
       "  </thead>\n",
       "  <tbody>\n",
       "    <tr>\n",
       "      <th>0</th>\n",
       "      <td>BMW</td>\n",
       "      <td>1 Series M</td>\n",
       "      <td>2011</td>\n",
       "      <td>335.0</td>\n",
       "      <td>6.0</td>\n",
       "      <td>MANUAL</td>\n",
       "      <td>Coupe</td>\n",
       "      <td>26</td>\n",
       "      <td>19</td>\n",
       "      <td>1</td>\n",
       "    </tr>\n",
       "    <tr>\n",
       "      <th>1</th>\n",
       "      <td>BMW</td>\n",
       "      <td>1 Series</td>\n",
       "      <td>2011</td>\n",
       "      <td>300.0</td>\n",
       "      <td>6.0</td>\n",
       "      <td>MANUAL</td>\n",
       "      <td>Convertible</td>\n",
       "      <td>28</td>\n",
       "      <td>19</td>\n",
       "      <td>1</td>\n",
       "    </tr>\n",
       "    <tr>\n",
       "      <th>2</th>\n",
       "      <td>BMW</td>\n",
       "      <td>1 Series</td>\n",
       "      <td>2011</td>\n",
       "      <td>300.0</td>\n",
       "      <td>6.0</td>\n",
       "      <td>MANUAL</td>\n",
       "      <td>Coupe</td>\n",
       "      <td>28</td>\n",
       "      <td>20</td>\n",
       "      <td>0</td>\n",
       "    </tr>\n",
       "    <tr>\n",
       "      <th>3</th>\n",
       "      <td>BMW</td>\n",
       "      <td>1 Series</td>\n",
       "      <td>2011</td>\n",
       "      <td>230.0</td>\n",
       "      <td>6.0</td>\n",
       "      <td>MANUAL</td>\n",
       "      <td>Coupe</td>\n",
       "      <td>28</td>\n",
       "      <td>18</td>\n",
       "      <td>0</td>\n",
       "    </tr>\n",
       "    <tr>\n",
       "      <th>4</th>\n",
       "      <td>BMW</td>\n",
       "      <td>1 Series</td>\n",
       "      <td>2011</td>\n",
       "      <td>230.0</td>\n",
       "      <td>6.0</td>\n",
       "      <td>MANUAL</td>\n",
       "      <td>Convertible</td>\n",
       "      <td>28</td>\n",
       "      <td>18</td>\n",
       "      <td>0</td>\n",
       "    </tr>\n",
       "  </tbody>\n",
       "</table>\n",
       "</div>"
      ],
      "text/plain": [
       "  make       model  year  engine_hp  engine_cylinders transmission_type  \\\n",
       "0  BMW  1 Series M  2011      335.0               6.0            MANUAL   \n",
       "1  BMW    1 Series  2011      300.0               6.0            MANUAL   \n",
       "2  BMW    1 Series  2011      300.0               6.0            MANUAL   \n",
       "3  BMW    1 Series  2011      230.0               6.0            MANUAL   \n",
       "4  BMW    1 Series  2011      230.0               6.0            MANUAL   \n",
       "\n",
       "  vehicle_style  highway_mpg  city_mpg  above_average  \n",
       "0         Coupe           26        19              1  \n",
       "1   Convertible           28        19              1  \n",
       "2         Coupe           28        20              0  \n",
       "3         Coupe           28        18              0  \n",
       "4   Convertible           28        18              0  "
      ]
     },
     "execution_count": 3,
     "metadata": {},
     "output_type": "execute_result"
    }
   ],
   "source": [
    "df = df[[\n",
    "    'Make',\n",
    "    'Model',\n",
    "    'Year',\n",
    "    'Engine HP',\n",
    "    'Engine Cylinders',\n",
    "    'Transmission Type',\n",
    "    'Vehicle Style',\n",
    "    'highway MPG',\n",
    "    'city mpg',\n",
    "    'MSRP'\n",
    "]]\n",
    "df.columns = df.columns.str.replace(' ', '_').str.lower()\n",
    "df = df.fillna(0)\n",
    "df['above_average'] = df['msrp'] > (df['msrp'].mean())\n",
    "df['above_average'] = df['above_average'].astype(int)\n",
    "del df['msrp']\n",
    "\n",
    "df.head()"
   ]
  },
  {
   "cell_type": "code",
   "execution_count": 4,
   "id": "53e88097",
   "metadata": {},
   "outputs": [],
   "source": [
    "from sklearn.model_selection import train_test_split"
   ]
  },
  {
   "cell_type": "code",
   "execution_count": 5,
   "id": "490ba0e6",
   "metadata": {},
   "outputs": [],
   "source": [
    "df_full_train, df_test = train_test_split(df, test_size=0.2, random_state=1)\n",
    "df_train, df_val = train_test_split(df_full_train, test_size=0.25, random_state=1)\n",
    "\n",
    "df_train = df_train.reset_index(drop=True)\n",
    "df_val = df_val.reset_index(drop=True)\n",
    "df_test = df_test.reset_index(drop=True)\n",
    "\n",
    "y_train = df_train.above_average.values\n",
    "y_val = df_val.above_average.values\n",
    "y_test = df_test.above_average.values\n",
    "\n",
    "del df_train['above_average']\n",
    "del df_val['above_average']\n",
    "del df_test['above_average']"
   ]
  },
  {
   "cell_type": "markdown",
   "id": "c0d572b6",
   "metadata": {},
   "source": [
    "# Question 1: ROC AUC feature importance\n",
    "\n",
    "ROC AUC could also be used to evaluate feature importance of numerical variables.\n",
    "\n",
    "Let's do that\n",
    "\n",
    "    For each numerical variable, use it as score and compute AUC with the above_average variable\n",
    "    Use the training dataset for that\n",
    "\n",
    "If your AUC is < 0.5, invert this variable by putting \"-\" in front\n",
    "\n",
    "(e.g. -df_train['engine_hp'])\n",
    "\n",
    "AUC can go below 0.5 if the variable is negatively correlated with the target varialble. You can change the direction of the correlation by negating this variable - then negative correlation becomes positive.\n",
    "\n",
    "Which numerical variable (among the following 4) has the highest AUC?\n",
    "\n",
    "    engine_hp\n",
    "    engine_cylinders\n",
    "    highway_mpg\n",
    "    city_mpg\n"
   ]
  },
  {
   "cell_type": "code",
   "execution_count": 6,
   "id": "98dd2685",
   "metadata": {},
   "outputs": [],
   "source": [
    "num = ['engine_hp', 'engine_cylinders', 'highway_mpg', 'city_mpg']\n",
    "cat = ['make', 'model', 'transmission_type', 'vehicle_style']"
   ]
  },
  {
   "cell_type": "code",
   "execution_count": 7,
   "id": "4eda0186",
   "metadata": {},
   "outputs": [],
   "source": [
    "from sklearn.linear_model import LogisticRegression\n",
    "from sklearn.metrics import roc_auc_score"
   ]
  },
  {
   "cell_type": "code",
   "execution_count": 8,
   "id": "22805f0c",
   "metadata": {},
   "outputs": [
    {
     "data": {
      "text/html": [
       "<div>\n",
       "<style scoped>\n",
       "    .dataframe tbody tr th:only-of-type {\n",
       "        vertical-align: middle;\n",
       "    }\n",
       "\n",
       "    .dataframe tbody tr th {\n",
       "        vertical-align: top;\n",
       "    }\n",
       "\n",
       "    .dataframe thead th {\n",
       "        text-align: right;\n",
       "    }\n",
       "</style>\n",
       "<table border=\"1\" class=\"dataframe\">\n",
       "  <thead>\n",
       "    <tr style=\"text-align: right;\">\n",
       "      <th></th>\n",
       "      <th>roc_value</th>\n",
       "    </tr>\n",
       "  </thead>\n",
       "  <tbody>\n",
       "    <tr>\n",
       "      <th>engine_hp</th>\n",
       "      <td>0.917103</td>\n",
       "    </tr>\n",
       "    <tr>\n",
       "      <th>engine_cylinders</th>\n",
       "      <td>0.766116</td>\n",
       "    </tr>\n",
       "    <tr>\n",
       "      <th>city_mpg</th>\n",
       "      <td>0.673424</td>\n",
       "    </tr>\n",
       "    <tr>\n",
       "      <th>highway_mpg</th>\n",
       "      <td>0.633059</td>\n",
       "    </tr>\n",
       "  </tbody>\n",
       "</table>\n",
       "</div>"
      ],
      "text/plain": [
       "                  roc_value\n",
       "engine_hp          0.917103\n",
       "engine_cylinders   0.766116\n",
       "city_mpg           0.673424\n",
       "highway_mpg        0.633059"
      ]
     },
     "execution_count": 8,
     "metadata": {},
     "output_type": "execute_result"
    }
   ],
   "source": [
    "roc_value = []\n",
    "col = []\n",
    "X_train = df_train[num]\n",
    "for feature in X_train.columns :\n",
    "    model = LogisticRegression()\n",
    "    model.fit(X_train[feature].to_frame(), y_train)\n",
    "    \n",
    "    y_score = model.predict_proba(X_train[feature].to_frame())\n",
    "    \n",
    "    roc_value.append(roc_auc_score(y_train, y_score[:, 1]))\n",
    "    col.append(feature)\n",
    "                     \n",
    "pd.DataFrame(index = col, data = roc_value, columns = ['roc_value']).sort_values('roc_value', axis=0, ascending=False)"
   ]
  },
  {
   "cell_type": "markdown",
   "id": "3adc591b",
   "metadata": {},
   "source": [
    "# Question 2: Training the model\n",
    "\n",
    "Apply one-hot-encoding using DictVectorizer and train the logistic regression with these parameters:\n",
    "\n",
    "LogisticRegression(solver='liblinear', C=1.0, max_iter=1000)\n",
    "\n",
    "What's the AUC of this model on the validation dataset? (round to 3 digits)\n",
    "\n",
    "    0.678\n",
    "    0.779\n",
    "    0.878\n",
    "    0.979\n"
   ]
  },
  {
   "cell_type": "code",
   "execution_count": 9,
   "id": "d9e3ebe8",
   "metadata": {},
   "outputs": [],
   "source": [
    "from sklearn.feature_extraction import DictVectorizer\n",
    "dv = dv = DictVectorizer(sparse=False)"
   ]
  },
  {
   "cell_type": "code",
   "execution_count": 10,
   "id": "9e6b0399",
   "metadata": {},
   "outputs": [
    {
     "data": {
      "text/plain": [
       "0.9818269208660323"
      ]
     },
     "execution_count": 10,
     "metadata": {},
     "output_type": "execute_result"
    }
   ],
   "source": [
    "# entraînement du modèle\n",
    "\n",
    "train_dict = df_train[cat + num].to_dict(orient='records')\n",
    "X_train = dv.fit_transform(train_dict)\n",
    "\n",
    "model = LogisticRegression(solver='liblinear', C=1.0, max_iter=1000)\n",
    "model.fit(X_train, y_train)\n",
    "\n",
    "# validation\n",
    "\n",
    "val_dict = df_val[cat + num].to_dict(orient='records')\n",
    "X_val = dv.transform(val_dict)\n",
    "\n",
    "y_pred = model.predict_proba(X_val)[:, 1]\n",
    "\n",
    "roc_auc_score(y_val, y_pred)"
   ]
  },
  {
   "cell_type": "markdown",
   "id": "098897dc",
   "metadata": {},
   "source": [
    "# Question 3: Precision and Recall\n",
    "\n",
    "Now let's compute precision and recall for our model.\n",
    "\n",
    "    Evaluate the model on all thresholds from 0.0 to 1.0 with step 0.01\n",
    "    For each threshold, compute precision and recall\n",
    "    Plot them\n",
    "\n",
    "At which threshold precision and recall curves intersect?\n",
    "\n",
    "    0.28\n",
    "    0.48\n",
    "    0.68\n",
    "    0.88\n"
   ]
  },
  {
   "cell_type": "code",
   "execution_count": 11,
   "id": "3aa81bee",
   "metadata": {},
   "outputs": [],
   "source": [
    "#from sklearn.metrics import precision_recall_curve\n",
    "from sklearn.metrics import (accuracy_score, precision_score, recall_score)"
   ]
  },
  {
   "cell_type": "code",
   "execution_count": 13,
   "id": "ddf4e180",
   "metadata": {},
   "outputs": [
    {
     "data": {
      "image/png": "[encoded data removed]",
      "text/plain": [
       "<Figure size 640x480 with 1 Axes>"
      ]
     },
     "metadata": {},
     "output_type": "display_data"
    }
   ],
   "source": [
    "thresholds = np.linspace(0, 1, 101)\n",
    "\n",
    "acc = []\n",
    "prc = []\n",
    "rec = []\n",
    "\n",
    "for t in thresholds:\n",
    "    score_acc = accuracy_score(y_val, y_pred >= t)\n",
    "    score_prc = precision_score(y_val, y_pred>= t, zero_division=np.nan)\n",
    "    score_rec = recall_score(y_val, y_pred >= t)\n",
    "    #print('%.2f %.3f %.3f' % (t, score_acc, score_prc))\n",
    "    acc.append(score_acc)\n",
    "    prc.append(score_prc)\n",
    "    rec.append(score_rec)\n",
    "    \n",
    "plt.plot(thresholds, rec, label='recall')\n",
    "plt.plot(thresholds, prc, label='precision')\n",
    "\n",
    "\n",
    "plt.legend()\n",
    "plt.show()"
   ]
  },
  {
   "cell_type": "markdown",
   "id": "f06877a4",
   "metadata": {},
   "source": [
    "# Question 4: F1 score\n",
    "\n",
    "Precision and recall are conflicting - when one grows, the other goes down. That's why they are often combined into the F1 score - a metrics that takes into account both\n",
    "\n",
    "This is the formula for computing F1: F1 = 2.(P.R) / (P+R)\n",
    "\n",
    "Where P is precision and R is recall.\n",
    "\n",
    "Let's compute F1 for all thresholds from 0.0 to 1.0 with increment 0.01\n",
    "\n",
    "At which threshold F1 is maximal?\n",
    "\n",
    "    0.12\n",
    "    0.32\n",
    "    0.52\n",
    "    0.72\n"
   ]
  },
  {
   "cell_type": "code",
   "execution_count": 14,
   "id": "80809ddf",
   "metadata": {},
   "outputs": [],
   "source": [
    "from sklearn.metrics import f1_score"
   ]
  },
  {
   "cell_type": "code",
   "execution_count": 15,
   "id": "561e38da",
   "metadata": {},
   "outputs": [
    {
     "name": "stdout",
     "output_type": "stream",
     "text": [
      "0.00 0.431\n",
      "0.01 0.616\n",
      "0.02 0.662\n",
      "0.03 0.687\n",
      "0.04 0.716\n",
      "0.05 0.735\n",
      "0.06 0.746\n",
      "0.07 0.760\n",
      "0.08 0.773\n",
      "0.09 0.780\n",
      "0.10 0.788\n",
      "0.11 0.796\n",
      "0.12 0.802\n",
      "0.13 0.812\n",
      "0.14 0.819\n",
      "0.15 0.822\n",
      "0.16 0.826\n",
      "0.17 0.831\n",
      "0.18 0.837\n",
      "0.19 0.839\n",
      "0.20 0.845\n",
      "0.21 0.846\n",
      "0.22 0.848\n",
      "0.23 0.856\n",
      "0.24 0.857\n",
      "0.25 0.862\n",
      "0.26 0.863\n",
      "0.27 0.866\n",
      "0.28 0.869\n",
      "0.29 0.871\n",
      "0.30 0.873\n",
      "0.31 0.874\n",
      "0.32 0.875\n",
      "0.33 0.875\n",
      "0.34 0.880\n",
      "0.35 0.884\n",
      "0.36 0.886\n",
      "0.37 0.891\n",
      "0.38 0.891\n",
      "0.39 0.891\n",
      "0.40 0.894\n",
      "0.41 0.896\n",
      "0.42 0.897\n",
      "0.43 0.896\n",
      "0.44 0.896\n",
      "0.45 0.894\n",
      "0.46 0.894\n",
      "0.47 0.893\n",
      "0.48 0.896\n",
      "0.49 0.898\n",
      "0.50 0.896\n",
      "0.51 0.893\n",
      "0.52 0.892\n",
      "0.53 0.888\n",
      "0.54 0.887\n",
      "0.55 0.886\n",
      "0.56 0.887\n",
      "0.57 0.887\n",
      "0.58 0.887\n",
      "0.59 0.886\n",
      "0.60 0.885\n",
      "0.61 0.886\n",
      "0.62 0.878\n",
      "0.63 0.875\n",
      "0.64 0.875\n",
      "0.65 0.871\n",
      "0.66 0.869\n",
      "0.67 0.869\n",
      "0.68 0.867\n",
      "0.69 0.863\n",
      "0.70 0.863\n",
      "0.71 0.863\n",
      "0.72 0.859\n",
      "0.73 0.855\n",
      "0.74 0.851\n",
      "0.75 0.852\n",
      "0.76 0.849\n",
      "0.77 0.842\n",
      "0.78 0.833\n",
      "0.79 0.833\n",
      "0.80 0.824\n",
      "0.81 0.820\n",
      "0.82 0.811\n",
      "0.83 0.795\n",
      "0.84 0.781\n",
      "0.85 0.752\n",
      "0.86 0.743\n",
      "0.87 0.742\n",
      "0.88 0.734\n",
      "0.89 0.729\n",
      "0.90 0.722\n",
      "0.91 0.719\n",
      "0.92 0.706\n",
      "0.93 0.685\n",
      "0.94 0.641\n",
      "0.95 0.611\n",
      "0.96 0.591\n",
      "0.97 0.563\n",
      "0.98 0.515\n",
      "0.99 0.450\n",
      "1.00 nan\n"
     ]
    },
    {
     "data": {
      "text/plain": [
       "[<matplotlib.lines.Line2D at 0x21fd6e94810>]"
      ]
     },
     "execution_count": 15,
     "metadata": {},
     "output_type": "execute_result"
    },
    {
     "data": {
      "image/png": "[encoded data removed]",
      "text/plain": [
       "<Figure size 640x480 with 1 Axes>"
      ]
     },
     "metadata": {},
     "output_type": "display_data"
    }
   ],
   "source": [
    "f1 = []\n",
    "for t in thresholds:\n",
    "    score = f1_score(y_val, y_pred >= t, zero_division=np.nan)\n",
    "    print('%.2f %.3f' % (t, score))\n",
    "    f1.append(score)\n",
    "    \n",
    "plt.plot(thresholds, f1, label='f1_score')"
   ]
  },
  {
   "cell_type": "markdown",
   "id": "9559f339",
   "metadata": {},
   "source": [
    "# Question 5: 5-Fold CV\n",
    "\n",
    "Use the KFold class from Scikit-Learn to evaluate our model on 5 different folds:\n",
    "\n",
    "KFold(n_splits=5, shuffle=True, random_state=1)\n",
    "\n",
    "    Iterate over different folds of df_full_train\n",
    "    Split the data into train and validation\n",
    "    Train the model on train with these parameters: LogisticRegression(solver='liblinear', C=1.0, max_iter=1000)\n",
    "    Use AUC to evaluate the model on validation\n",
    "\n",
    "How large is standard devidation of the scores across different folds?\n",
    "\n",
    "    0.003\n",
    "    0.030\n",
    "    0.090\n",
    "    0.140\n"
   ]
  },
  {
   "cell_type": "code",
   "execution_count": 16,
   "id": "48f2d342",
   "metadata": {},
   "outputs": [],
   "source": [
    "def train(df_full_train, y_full_train, C=1.0):\n",
    "    dicts = df_train[cat + num].to_dict(orient='records')\n",
    "\n",
    "    dv = DictVectorizer(sparse=False)\n",
    "    X_train = dv.fit_transform(dicts)\n",
    "\n",
    "    model = LogisticRegression(solver='liblinear', C=C, max_iter=1000)\n",
    "    model.fit(X_train, y_train)\n",
    "    \n",
    "    return dv, model"
   ]
  },
  {
   "cell_type": "code",
   "execution_count": 17,
   "id": "1b055a88",
   "metadata": {},
   "outputs": [],
   "source": [
    "dv, model = train(df_train, y_train, C=0.001)"
   ]
  },
  {
   "cell_type": "code",
   "execution_count": 18,
   "id": "7cf6f233",
   "metadata": {},
   "outputs": [],
   "source": [
    "def predict(df, dv, model):\n",
    "    dicts = df[cat + num].to_dict(orient='records')\n",
    "\n",
    "    X = dv.transform(dicts)\n",
    "    y_pred = model.predict_proba(X)[:, 1]\n",
    "\n",
    "    return y_pred"
   ]
  },
  {
   "cell_type": "code",
   "execution_count": 19,
   "id": "db2162c9",
   "metadata": {},
   "outputs": [],
   "source": [
    "y_pred = predict(df_val, dv, model)"
   ]
  },
  {
   "cell_type": "code",
   "execution_count": 20,
   "id": "aeffc3f1",
   "metadata": {},
   "outputs": [],
   "source": [
    "from sklearn.model_selection import KFold"
   ]
  },
  {
   "cell_type": "code",
   "execution_count": 21,
   "id": "ad1d0216",
   "metadata": {},
   "outputs": [],
   "source": [
    "kfold = KFold(n_splits=5, shuffle=True, random_state=1)"
   ]
  },
  {
   "cell_type": "code",
   "execution_count": 22,
   "id": "5151fc5b",
   "metadata": {},
   "outputs": [],
   "source": [
    "train_idx, val_idx = next(kfold.split(df_full_train))"
   ]
  },
  {
   "cell_type": "code",
   "execution_count": 23,
   "id": "9f753454",
   "metadata": {},
   "outputs": [],
   "source": [
    "from sklearn.metrics import auc"
   ]
  },
  {
   "cell_type": "code",
   "execution_count": 24,
   "id": "984d3c1e",
   "metadata": {},
   "outputs": [
    {
     "name": "stdout",
     "output_type": "stream",
     "text": [
      "0.982\n",
      "0.983\n",
      "0.984\n",
      "0.982\n",
      "0.988\n"
     ]
    }
   ],
   "source": [
    "scores = []\n",
    "\n",
    "for train_idx, val_idx in kfold.split(df_full_train):\n",
    "    df_train = df_full_train.iloc[train_idx]\n",
    "    df_val = df_full_train.iloc[val_idx]\n",
    "    \n",
    "    y_train = df_train.above_average.values\n",
    "    y_val = df_val.above_average.values\n",
    "    \n",
    "    dv, model = train(df_train, y_train)\n",
    "    y_pred = predict(df_val, dv, model)\n",
    "    \n",
    "    auc = roc_auc_score(y_val, y_pred)\n",
    "    scores.append(auc)\n",
    "    print('%.3f' % (auc))"
   ]
  },
  {
   "cell_type": "code",
   "execution_count": 25,
   "id": "e9df606d",
   "metadata": {},
   "outputs": [
    {
     "name": "stdout",
     "output_type": "stream",
     "text": [
      "0.984 +- 0.002\n"
     ]
    }
   ],
   "source": [
    "print ('%.3f +- %.3f' % (np.mean(scores), np.std(scores)))"
   ]
  },
  {
   "cell_type": "markdown",
   "id": "c17eeea1",
   "metadata": {},
   "source": [
    "# Question 6: Hyperparemeter Tuning\n",
    "\n",
    "Now let's use 5-Fold cross-validation to find the best parameter C\n",
    "\n",
    "    Iterate over the following C values: [0.01, 0.1, 0.5, 10]\n",
    "    Initialize KFold with the same parameters as previously\n",
    "    Use these parametes for the model: LogisticRegression(solver='liblinear', C=C, max_iter=1000)\n",
    "    Compute the mean score as well as the std (round the mean and std to 3 decimal digits)\n",
    "\n",
    "Which C leads to the best mean score?\n",
    "\n",
    "    0.01\n",
    "    0.1\n",
    "    0.5\n",
    "    10\n",
    "\n",
    "If you have ties, select the score with the lowest std. If you still have ties, select the smallest C."
   ]
  },
  {
   "cell_type": "code",
   "execution_count": 26,
   "id": "a7c0ce7e",
   "metadata": {},
   "outputs": [
    {
     "name": "stdout",
     "output_type": "stream",
     "text": [
      "C=0.01 0.938 +- 0.002\n",
      "C=0.1 0.973 +- 0.003\n",
      "C=0.5 0.982 +- 0.002\n",
      "C=10 0.987 +- 0.002\n"
     ]
    }
   ],
   "source": [
    "n_splits = 5\n",
    "C = (0.01, 0.1, 0.5, 10)\n",
    "\n",
    "for i in C:\n",
    "    kfold = KFold(n_splits=n_splits, shuffle=True, random_state=1)\n",
    "\n",
    "    scores = []\n",
    "\n",
    "    for train_idx, val_idx in kfold.split(df_full_train):\n",
    "        df_train = df_full_train.iloc[train_idx]\n",
    "        df_val = df_full_train.iloc[val_idx]\n",
    "\n",
    "        y_train = df_train.above_average.values\n",
    "        y_val = df_val.above_average.values\n",
    "\n",
    "        dv, model = train(df_train, y_train, C=i)\n",
    "        y_pred = predict(df_val, dv, model)\n",
    "\n",
    "        auc = roc_auc_score(y_val, y_pred)\n",
    "        scores.append(auc)\n",
    "\n",
    "    print('C=%s %.3f +- %.3f' % (i, np.mean(scores), np.std(scores)))"
   ]
  },
  {
   "cell_type": "code",
   "execution_count": 27,
   "id": "e6914924",
   "metadata": {},
   "outputs": [
    {
     "name": "stdout",
     "output_type": "stream",
     "text": [
      "Requirement already satisfied: tqdm in c:\\users\\laara\\anaconda3\\envs\\ml-zoomcamp\\lib\\site-packages (4.66.1)\n",
      "Requirement already satisfied: colorama in c:\\users\\laara\\anaconda3\\envs\\ml-zoomcamp\\lib\\site-packages (from tqdm) (0.4.6)\n"
     ]
    }
   ],
   "source": [
    "!pip install tqdm\n",
    "from tqdm.auto import tqdm"
   ]
  },
  {
   "cell_type": "code",
   "execution_count": 28,
   "id": "cf832218",
   "metadata": {},
   "outputs": [
    {
     "data": {
      "application/vnd.jupyter.widget-view+json": {
       "model_id": "326b7496ef7144fcbf30dc197ac2679d",
       "version_major": 2,
       "version_minor": 0
      },
      "text/plain": [
       "  0%|          | 0/4 [00:00<?, ?it/s]"
      ]
     },
     "metadata": {},
     "output_type": "display_data"
    },
    {
     "name": "stdout",
     "output_type": "stream",
     "text": [
      "C=0.01 0.938 +- 0.002\n",
      "C=0.1 0.973 +- 0.003\n",
      "C=0.5 0.982 +- 0.002\n",
      "C=10 0.987 +- 0.002\n"
     ]
    }
   ],
   "source": [
    "n_splits = 5\n",
    "\n",
    "for C in tqdm([0.01, 0.1, 0.5, 10]):\n",
    "    kfold = KFold(n_splits=n_splits, shuffle=True, random_state=1)\n",
    "\n",
    "    scores = []\n",
    "\n",
    "    for train_idx, val_idx in kfold.split(df_full_train):\n",
    "        df_train = df_full_train.iloc[train_idx]\n",
    "        df_val = df_full_train.iloc[val_idx]\n",
    "\n",
    "        y_train = df_train.above_average.values\n",
    "        y_val = df_val.above_average.values\n",
    "\n",
    "        dv, model = train(df_train, y_train, C=C)\n",
    "        y_pred = predict(df_val, dv, model)\n",
    "\n",
    "        auc = roc_auc_score(y_val, y_pred)\n",
    "        scores.append(auc)\n",
    "\n",
    "    print('C=%s %.3f +- %.3f' % (C, np.mean(scores), np.std(scores)))"
   ]
  },
  {
   "cell_type": "code",
   "execution_count": 29,
   "id": "0ba76480",
   "metadata": {},
   "outputs": [
    {
     "name": "stdout",
     "output_type": "stream",
     "text": [
      "[[1344   42]\n",
      " [  46  474]]\n",
      "Test accuracy =  0.9538300104931794\n"
     ]
    }
   ],
   "source": [
    "from sklearn.metrics import (confusion_matrix)\n",
    "\n",
    "cf_matrix = confusion_matrix(y_val, y_pred>= 0.5)\n",
    "print(cf_matrix)\n",
    "print('Test accuracy = ', accuracy_score(y_val, y_pred>= 0.5))"
   ]
  },
  {
   "cell_type": "markdown",
   "id": "92928630",
   "metadata": {},
   "source": [
    "# Submit the results<br />\n",
    "\n",
    "* Submit your results [here](https://forms.gle/E7Fa3WuBw3HkPQYg6): <br />\n",
    "    If your answer doesn't match options exactly, select the closest one.<br />\n",
    "    You can submit your solution multiple times. In this case, only the last submission will be used<br /><br />\n",
    "\n",
    "* Deadline<br />\n",
    "    The deadline for submitting is October 9 (Monday), 23:00 CET. After that the form will be closed."
   ]
  },
  {
   "cell_type": "code",
   "execution_count": null,
   "id": "cf223c6c",
   "metadata": {},
   "outputs": [],
   "source": []
  },
  {
   "cell_type": "code",
   "execution_count": null,
   "id": "e7bc0b14",
   "metadata": {},
   "outputs": [],
   "source": []
  }
 ],
 "metadata": {
  "kernelspec": {
   "display_name": "Python 3 (ipykernel)",
   "language": "python",
   "name": "python3"
  },
  "language_info": {
   "codemirror_mode": {
    "name": "ipython",
    "version": 3
   },
   "file_extension": ".py",
   "mimetype": "text/x-python",
   "name": "python",
   "nbconvert_exporter": "python",
   "pygments_lexer": "ipython3",
   "version": "3.11.5"
  },
  "toc": {
   "base_numbering": 1,
   "nav_menu": {},
   "number_sections": true,
   "sideBar": true,
   "skip_h1_title": false,
   "title_cell": "Table of Contents",
   "title_sidebar": "Contents",
   "toc_cell": false,
   "toc_position": {},
   "toc_section_display": true,
   "toc_window_display": false
  }
 },
 "nbformat": 4,
 "nbformat_minor": 5
}
