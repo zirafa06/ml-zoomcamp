{
 "cells": [
  {
   "cell_type": "markdown",
   "id": "5422cb88",
   "metadata": {},
   "source": [
    "<span style='font-family:\"Times New Roman\"'><font size=\"3\">ML-zoomcamp Data talks cours 2 : </font></span>\n",
    "<br />\n",
    "<br />\n",
    "<br />\n",
    "<br />\n",
    "<span style='font-family:\"Times New Roman\"'><div align=\"center\"><font size=\"6\">**Linear regression**</font></div></span>\n",
    "<br /><br />\n",
    "<span style='font-family:\"Times New Roman\"'><font size=\"5\"><div align=\"right\">*18-25 sept 2023*</div></font></span>\n",
    "<br />\n",
    "[cours](https://github.com/DataTalksClub/machine-learning-zoomcamp/blob/master/02-regression/notebook.ipynb)<br />\n",
    "[ennoncé du devoir](https://github.com/DataTalksClub/machine-learning-zoomcamp/blob/master/cohorts/2023/02-regression/homework.md)</font></span></div>\n",
    "<br />\n",
    "_____\n",
    "<span style='color:blue'></span>\n",
    "<br />\n",
    "<br />"
   ]
  },
  {
   "cell_type": "code",
   "execution_count": 1,
   "id": "a96353d0",
   "metadata": {},
   "outputs": [],
   "source": [
    "import numpy as np\n",
    "import pandas as pd\n",
    "import matplotlib.pyplot as plt\n",
    "import seaborn as sns"
   ]
  },
  {
   "cell_type": "markdown",
   "id": "60ee06c8",
   "metadata": {},
   "source": [
    " même dataset que semaine1"
   ]
  },
  {
   "cell_type": "code",
   "execution_count": 2,
   "id": "ca719d05",
   "metadata": {},
   "outputs": [
    {
     "data": {
      "text/html": [
       "<div>\n",
       "<style scoped>\n",
       "    .dataframe tbody tr th:only-of-type {\n",
       "        vertical-align: middle;\n",
       "    }\n",
       "\n",
       "    .dataframe tbody tr th {\n",
       "        vertical-align: top;\n",
       "    }\n",
       "\n",
       "    .dataframe thead th {\n",
       "        text-align: right;\n",
       "    }\n",
       "</style>\n",
       "<table border=\"1\" class=\"dataframe\">\n",
       "  <thead>\n",
       "    <tr style=\"text-align: right;\">\n",
       "      <th></th>\n",
       "      <th>longitude</th>\n",
       "      <th>latitude</th>\n",
       "      <th>housing_median_age</th>\n",
       "      <th>total_rooms</th>\n",
       "      <th>total_bedrooms</th>\n",
       "      <th>population</th>\n",
       "      <th>households</th>\n",
       "      <th>median_income</th>\n",
       "      <th>median_house_value</th>\n",
       "      <th>ocean_proximity</th>\n",
       "    </tr>\n",
       "  </thead>\n",
       "  <tbody>\n",
       "    <tr>\n",
       "      <th>0</th>\n",
       "      <td>-122.23</td>\n",
       "      <td>37.88</td>\n",
       "      <td>41.0</td>\n",
       "      <td>880.0</td>\n",
       "      <td>129.0</td>\n",
       "      <td>322.0</td>\n",
       "      <td>126.0</td>\n",
       "      <td>8.3252</td>\n",
       "      <td>452600.0</td>\n",
       "      <td>NEAR BAY</td>\n",
       "    </tr>\n",
       "    <tr>\n",
       "      <th>1</th>\n",
       "      <td>-122.22</td>\n",
       "      <td>37.86</td>\n",
       "      <td>21.0</td>\n",
       "      <td>7099.0</td>\n",
       "      <td>1106.0</td>\n",
       "      <td>2401.0</td>\n",
       "      <td>1138.0</td>\n",
       "      <td>8.3014</td>\n",
       "      <td>358500.0</td>\n",
       "      <td>NEAR BAY</td>\n",
       "    </tr>\n",
       "  </tbody>\n",
       "</table>\n",
       "</div>"
      ],
      "text/plain": [
       "   longitude  latitude  housing_median_age  total_rooms  total_bedrooms  \\\n",
       "0    -122.23     37.88                41.0        880.0           129.0   \n",
       "1    -122.22     37.86                21.0       7099.0          1106.0   \n",
       "\n",
       "   population  households  median_income  median_house_value ocean_proximity  \n",
       "0       322.0       126.0         8.3252            452600.0        NEAR BAY  \n",
       "1      2401.0      1138.0         8.3014            358500.0        NEAR BAY  "
      ]
     },
     "execution_count": 2,
     "metadata": {},
     "output_type": "execute_result"
    }
   ],
   "source": [
    "df = pd.read_csv('housing.csv')\n",
    "df.head(2)"
   ]
  },
  {
   "cell_type": "markdown",
   "id": "8c4812bb",
   "metadata": {},
   "source": [
    "# Préparer le df de travail <br/><span style='font-family:\"Times New Roman\"'><font size=\"4\">on ne concerve qu'une partie du df initial<br /></font></span><br />"
   ]
  },
  {
   "cell_type": "code",
   "execution_count": 3,
   "id": "a2f84c69",
   "metadata": {},
   "outputs": [
    {
     "data": {
      "text/plain": [
       "Index(['longitude', 'latitude', 'housing_median_age', 'total_rooms',\n",
       "       'total_bedrooms', 'population', 'households', 'median_income',\n",
       "       'median_house_value', 'ocean_proximity'],\n",
       "      dtype='object')"
      ]
     },
     "execution_count": 3,
     "metadata": {},
     "output_type": "execute_result"
    }
   ],
   "source": [
    "df.columns"
   ]
  },
  {
   "cell_type": "code",
   "execution_count": 4,
   "id": "bbcd0526",
   "metadata": {},
   "outputs": [
    {
     "data": {
      "text/plain": [
       "0        452600.0\n",
       "1        358500.0\n",
       "2        352100.0\n",
       "3        341300.0\n",
       "4        342200.0\n",
       "           ...   \n",
       "20635     78100.0\n",
       "20636     77100.0\n",
       "20637     92300.0\n",
       "20638     84700.0\n",
       "20639     89400.0\n",
       "Name: median_house_value, Length: 20640, dtype: float64"
      ]
     },
     "execution_count": 4,
     "metadata": {},
     "output_type": "execute_result"
    }
   ],
   "source": [
    "# variable cible\n",
    "df.median_house_value #cette variable pourra faire l'objet d'une transformation par log par exemple\n",
    "                      #pour la ramener à une échelle plus proche de celle des autres variables"
   ]
  },
  {
   "cell_type": "code",
   "execution_count": 5,
   "id": "474a057f",
   "metadata": {},
   "outputs": [
    {
     "data": {
      "text/plain": [
       "array(['NEAR BAY', '<1H OCEAN', 'INLAND', 'NEAR OCEAN', 'ISLAND'],\n",
       "      dtype=object)"
      ]
     },
     "execution_count": 5,
     "metadata": {},
     "output_type": "execute_result"
    }
   ],
   "source": [
    "df['ocean_proximity'].unique()"
   ]
  },
  {
   "cell_type": "code",
   "execution_count": 6,
   "id": "941dc0fb",
   "metadata": {},
   "outputs": [
    {
     "data": {
      "text/html": [
       "<div>\n",
       "<style scoped>\n",
       "    .dataframe tbody tr th:only-of-type {\n",
       "        vertical-align: middle;\n",
       "    }\n",
       "\n",
       "    .dataframe tbody tr th {\n",
       "        vertical-align: top;\n",
       "    }\n",
       "\n",
       "    .dataframe thead th {\n",
       "        text-align: right;\n",
       "    }\n",
       "</style>\n",
       "<table border=\"1\" class=\"dataframe\">\n",
       "  <thead>\n",
       "    <tr style=\"text-align: right;\">\n",
       "      <th></th>\n",
       "      <th>longitude</th>\n",
       "      <th>latitude</th>\n",
       "      <th>housing_median_age</th>\n",
       "      <th>total_rooms</th>\n",
       "      <th>total_bedrooms</th>\n",
       "      <th>population</th>\n",
       "      <th>households</th>\n",
       "      <th>median_income</th>\n",
       "      <th>median_house_value</th>\n",
       "      <th>ocean_proximity</th>\n",
       "    </tr>\n",
       "  </thead>\n",
       "  <tbody>\n",
       "    <tr>\n",
       "      <th>701</th>\n",
       "      <td>-121.97</td>\n",
       "      <td>37.64</td>\n",
       "      <td>32.0</td>\n",
       "      <td>1283.0</td>\n",
       "      <td>194.0</td>\n",
       "      <td>485.0</td>\n",
       "      <td>171.0</td>\n",
       "      <td>6.0574</td>\n",
       "      <td>431000.0</td>\n",
       "      <td>&lt;1H OCEAN</td>\n",
       "    </tr>\n",
       "    <tr>\n",
       "      <th>830</th>\n",
       "      <td>-121.99</td>\n",
       "      <td>37.61</td>\n",
       "      <td>9.0</td>\n",
       "      <td>3666.0</td>\n",
       "      <td>711.0</td>\n",
       "      <td>2341.0</td>\n",
       "      <td>703.0</td>\n",
       "      <td>4.6458</td>\n",
       "      <td>217000.0</td>\n",
       "      <td>&lt;1H OCEAN</td>\n",
       "    </tr>\n",
       "    <tr>\n",
       "      <th>859</th>\n",
       "      <td>-121.97</td>\n",
       "      <td>37.57</td>\n",
       "      <td>21.0</td>\n",
       "      <td>4342.0</td>\n",
       "      <td>783.0</td>\n",
       "      <td>2172.0</td>\n",
       "      <td>789.0</td>\n",
       "      <td>4.6146</td>\n",
       "      <td>247600.0</td>\n",
       "      <td>&lt;1H OCEAN</td>\n",
       "    </tr>\n",
       "    <tr>\n",
       "      <th>860</th>\n",
       "      <td>-121.96</td>\n",
       "      <td>37.58</td>\n",
       "      <td>15.0</td>\n",
       "      <td>3575.0</td>\n",
       "      <td>597.0</td>\n",
       "      <td>1777.0</td>\n",
       "      <td>559.0</td>\n",
       "      <td>5.7192</td>\n",
       "      <td>283500.0</td>\n",
       "      <td>&lt;1H OCEAN</td>\n",
       "    </tr>\n",
       "    <tr>\n",
       "      <th>861</th>\n",
       "      <td>-121.98</td>\n",
       "      <td>37.58</td>\n",
       "      <td>20.0</td>\n",
       "      <td>4126.0</td>\n",
       "      <td>1031.0</td>\n",
       "      <td>2079.0</td>\n",
       "      <td>975.0</td>\n",
       "      <td>3.6832</td>\n",
       "      <td>216900.0</td>\n",
       "      <td>&lt;1H OCEAN</td>\n",
       "    </tr>\n",
       "    <tr>\n",
       "      <th>...</th>\n",
       "      <td>...</td>\n",
       "      <td>...</td>\n",
       "      <td>...</td>\n",
       "      <td>...</td>\n",
       "      <td>...</td>\n",
       "      <td>...</td>\n",
       "      <td>...</td>\n",
       "      <td>...</td>\n",
       "      <td>...</td>\n",
       "      <td>...</td>\n",
       "    </tr>\n",
       "    <tr>\n",
       "      <th>20635</th>\n",
       "      <td>-121.09</td>\n",
       "      <td>39.48</td>\n",
       "      <td>25.0</td>\n",
       "      <td>1665.0</td>\n",
       "      <td>374.0</td>\n",
       "      <td>845.0</td>\n",
       "      <td>330.0</td>\n",
       "      <td>1.5603</td>\n",
       "      <td>78100.0</td>\n",
       "      <td>INLAND</td>\n",
       "    </tr>\n",
       "    <tr>\n",
       "      <th>20636</th>\n",
       "      <td>-121.21</td>\n",
       "      <td>39.49</td>\n",
       "      <td>18.0</td>\n",
       "      <td>697.0</td>\n",
       "      <td>150.0</td>\n",
       "      <td>356.0</td>\n",
       "      <td>114.0</td>\n",
       "      <td>2.5568</td>\n",
       "      <td>77100.0</td>\n",
       "      <td>INLAND</td>\n",
       "    </tr>\n",
       "    <tr>\n",
       "      <th>20637</th>\n",
       "      <td>-121.22</td>\n",
       "      <td>39.43</td>\n",
       "      <td>17.0</td>\n",
       "      <td>2254.0</td>\n",
       "      <td>485.0</td>\n",
       "      <td>1007.0</td>\n",
       "      <td>433.0</td>\n",
       "      <td>1.7000</td>\n",
       "      <td>92300.0</td>\n",
       "      <td>INLAND</td>\n",
       "    </tr>\n",
       "    <tr>\n",
       "      <th>20638</th>\n",
       "      <td>-121.32</td>\n",
       "      <td>39.43</td>\n",
       "      <td>18.0</td>\n",
       "      <td>1860.0</td>\n",
       "      <td>409.0</td>\n",
       "      <td>741.0</td>\n",
       "      <td>349.0</td>\n",
       "      <td>1.8672</td>\n",
       "      <td>84700.0</td>\n",
       "      <td>INLAND</td>\n",
       "    </tr>\n",
       "    <tr>\n",
       "      <th>20639</th>\n",
       "      <td>-121.24</td>\n",
       "      <td>39.37</td>\n",
       "      <td>16.0</td>\n",
       "      <td>2785.0</td>\n",
       "      <td>616.0</td>\n",
       "      <td>1387.0</td>\n",
       "      <td>530.0</td>\n",
       "      <td>2.3886</td>\n",
       "      <td>89400.0</td>\n",
       "      <td>INLAND</td>\n",
       "    </tr>\n",
       "  </tbody>\n",
       "</table>\n",
       "<p>15687 rows × 10 columns</p>\n",
       "</div>"
      ],
      "text/plain": [
       "       longitude  latitude  housing_median_age  total_rooms  total_bedrooms  \\\n",
       "701      -121.97     37.64                32.0       1283.0           194.0   \n",
       "830      -121.99     37.61                 9.0       3666.0           711.0   \n",
       "859      -121.97     37.57                21.0       4342.0           783.0   \n",
       "860      -121.96     37.58                15.0       3575.0           597.0   \n",
       "861      -121.98     37.58                20.0       4126.0          1031.0   \n",
       "...          ...       ...                 ...          ...             ...   \n",
       "20635    -121.09     39.48                25.0       1665.0           374.0   \n",
       "20636    -121.21     39.49                18.0        697.0           150.0   \n",
       "20637    -121.22     39.43                17.0       2254.0           485.0   \n",
       "20638    -121.32     39.43                18.0       1860.0           409.0   \n",
       "20639    -121.24     39.37                16.0       2785.0           616.0   \n",
       "\n",
       "       population  households  median_income  median_house_value  \\\n",
       "701         485.0       171.0         6.0574            431000.0   \n",
       "830        2341.0       703.0         4.6458            217000.0   \n",
       "859        2172.0       789.0         4.6146            247600.0   \n",
       "860        1777.0       559.0         5.7192            283500.0   \n",
       "861        2079.0       975.0         3.6832            216900.0   \n",
       "...           ...         ...            ...                 ...   \n",
       "20635       845.0       330.0         1.5603             78100.0   \n",
       "20636       356.0       114.0         2.5568             77100.0   \n",
       "20637      1007.0       433.0         1.7000             92300.0   \n",
       "20638       741.0       349.0         1.8672             84700.0   \n",
       "20639      1387.0       530.0         2.3886             89400.0   \n",
       "\n",
       "      ocean_proximity  \n",
       "701         <1H OCEAN  \n",
       "830         <1H OCEAN  \n",
       "859         <1H OCEAN  \n",
       "860         <1H OCEAN  \n",
       "861         <1H OCEAN  \n",
       "...               ...  \n",
       "20635          INLAND  \n",
       "20636          INLAND  \n",
       "20637          INLAND  \n",
       "20638          INLAND  \n",
       "20639          INLAND  \n",
       "\n",
       "[15687 rows x 10 columns]"
      ]
     },
     "execution_count": 6,
     "metadata": {},
     "output_type": "execute_result"
    }
   ],
   "source": [
    "dfw = df.query(\"ocean_proximity == ('INLAND', '<1H OCEAN')\")\n",
    "dfw"
   ]
  },
  {
   "cell_type": "code",
   "execution_count": 7,
   "id": "5ad92fe8",
   "metadata": {},
   "outputs": [],
   "source": [
    "dfw = dfw[['longitude', 'latitude', 'housing_median_age','total_rooms','total_bedrooms','population','households',\n",
    "    'median_income','median_house_value']]"
   ]
  },
  {
   "cell_type": "code",
   "execution_count": 8,
   "id": "74ff842e",
   "metadata": {},
   "outputs": [
    {
     "data": {
      "text/plain": [
       "<Axes: xlabel='median_house_value', ylabel='Count'>"
      ]
     },
     "execution_count": 8,
     "metadata": {},
     "output_type": "execute_result"
    },
    {
     "data": {
      "image/png": "[encoded data removed]",
      "text/plain": [
       "<Figure size 640x480 with 1 Axes>"
      ]
     },
     "metadata": {},
     "output_type": "display_data"
    }
   ],
   "source": [
    "sns.histplot(dfw.median_house_value, bins=50)"
   ]
  },
  {
   "cell_type": "code",
   "execution_count": 9,
   "id": "b5ddc72e",
   "metadata": {},
   "outputs": [
    {
     "data": {
      "text/plain": [
       "<Axes: xlabel='median_house_value_trans', ylabel='Count'>"
      ]
     },
     "execution_count": 9,
     "metadata": {},
     "output_type": "execute_result"
    },
    {
     "data": {
      "image/png": "[encoded data removed]",
      "text/plain": [
       "<Figure size 640x480 with 1 Axes>"
      ]
     },
     "metadata": {},
     "output_type": "display_data"
    }
   ],
   "source": [
    "dfw['median_house_value_trans'] = np.log1p(dfw.median_house_value)\n",
    "dfw = dfw.drop(columns = 'median_house_value')\n",
    "sns.histplot(dfw.median_house_value_trans, bins=50)"
   ]
  },
  {
   "cell_type": "markdown",
   "id": "fa6926ce",
   "metadata": {},
   "source": [
    "# Exploration"
   ]
  },
  {
   "cell_type": "code",
   "execution_count": 10,
   "id": "dd6912c3",
   "metadata": {},
   "outputs": [
    {
     "name": "stdout",
     "output_type": "stream",
     "text": [
      "longitude\n",
      "[-121.97 -121.99 -121.96 -121.98 -122.  ]\n",
      "818\n",
      "\n",
      "latitude\n",
      "[37.64 37.61 37.57 37.58 37.49]\n",
      "834\n",
      "\n",
      "housing_median_age\n",
      "[32.  9. 21. 15. 20.]\n",
      "52\n",
      "\n",
      "total_rooms\n",
      "[1283. 3666. 4342. 3575. 4126.]\n",
      "5428\n",
      "\n",
      "total_bedrooms\n",
      "[ 194.  711.  783.  597. 1031.]\n",
      "1822\n",
      "\n",
      "population\n",
      "[ 485. 2341. 2172. 1777. 2079.]\n",
      "3683\n",
      "\n",
      "households\n",
      "[171. 703. 789. 559. 975.]\n",
      "1707\n",
      "\n",
      "median_income\n",
      "[6.0574 4.6458 4.6146 5.7192 3.6832]\n",
      "10434\n",
      "\n",
      "median_house_value_trans\n",
      "[12.97386569 12.28765724 12.41957386 12.55497093 12.28719631]\n",
      "3493\n",
      "\n"
     ]
    }
   ],
   "source": [
    "for col in dfw.columns:\n",
    "    print(col)\n",
    "    print(dfw[col].unique()[:5])\n",
    "    print(dfw[col].nunique())\n",
    "    print()"
   ]
  },
  {
   "cell_type": "code",
   "execution_count": 11,
   "id": "c15c602b",
   "metadata": {},
   "outputs": [
    {
     "data": {
      "text/plain": [
       "longitude                     0\n",
       "latitude                      0\n",
       "housing_median_age            0\n",
       "total_rooms                   0\n",
       "total_bedrooms              157\n",
       "population                    0\n",
       "households                    0\n",
       "median_income                 0\n",
       "median_house_value_trans      0\n",
       "dtype: int64"
      ]
     },
     "execution_count": 11,
     "metadata": {},
     "output_type": "execute_result"
    }
   ],
   "source": [
    "dfw.isnull().sum()"
   ]
  },
  {
   "cell_type": "code",
   "execution_count": 12,
   "id": "a5a0eac8",
   "metadata": {},
   "outputs": [
    {
     "data": {
      "text/plain": [
       "count    15687.000000\n",
       "mean      1466.317205\n",
       "std       1180.389908\n",
       "min          3.000000\n",
       "25%        802.000000\n",
       "50%       1195.000000\n",
       "75%       1777.000000\n",
       "max      35682.000000\n",
       "Name: population, dtype: float64"
      ]
     },
     "execution_count": 12,
     "metadata": {},
     "output_type": "execute_result"
    }
   ],
   "source": [
    "dfw.population.describe()"
   ]
  },
  {
   "cell_type": "markdown",
   "id": "29a4c42f",
   "metadata": {},
   "source": [
    "# préparation du dataset pour l'entraînement d'un modèle prédictif de valeurs immobilières"
   ]
  },
  {
   "cell_type": "code",
   "execution_count": 13,
   "id": "f9f7d8da",
   "metadata": {},
   "outputs": [],
   "source": [
    "# estimer le nb de'individus à mettre par set\n",
    "\n",
    "n = len(dfw)\n",
    "\n",
    "n_val = int(n * 0.2)\n",
    "n_test = int(n * 0.2)\n",
    "n_train = n - n_val - n_test\n",
    "\n",
    "# on va donc devoir mélanger les indiv avant de partitionner\n",
    "idx = np.arange(n)\n",
    "idx\n",
    "# on nous impose ici une base seed = 42\n",
    "np.random.seed(42)\n",
    "np.random.shuffle(idx)\n",
    "\n",
    "# partionnement\n",
    "df_train = dfw.iloc[:n_train]\n",
    "df_val = dfw.iloc[n_train:n_train+n_val]\n",
    "df_test = dfw.iloc[n_train+n_val:]\n",
    "\n",
    "# pour chaque sous df on réinitialise les index\n",
    "df_train = df_train.reset_index(drop=True)\n",
    "df_val = df_val.reset_index(drop=True)\n",
    "df_test = df_test.reset_index(drop=True)"
   ]
  },
  {
   "cell_type": "code",
   "execution_count": 14,
   "id": "ee6e7c54",
   "metadata": {},
   "outputs": [],
   "source": [
    "#variable cible : median value\n",
    "# on récupère les sous df pour la variable cible (msrp) qu'on transforme pour travailler en log des prix+1\n",
    "# on a vu qu'ainsi on considère que sa distribution suit une loi normale\n",
    "y_train = df_train.median_house_value_trans.values\n",
    "y_val = df_val.median_house_value_trans.values\n",
    "y_test = df_test.median_house_value_trans.values"
   ]
  },
  {
   "cell_type": "markdown",
   "id": "1373eb50",
   "metadata": {},
   "source": [
    "# entraînement avec remplacement des nan par 0"
   ]
  },
  {
   "cell_type": "code",
   "execution_count": 15,
   "id": "26dd0a00",
   "metadata": {},
   "outputs": [],
   "source": [
    "def train_linear_regression(X, y):\n",
    "    ones = np.ones(X.shape[0])\n",
    "    X = np.column_stack([ones, X])\n",
    "\n",
    "# puis éxécuter la définition des pondérations w\n",
    "    XTX = X.T.dot(X)\n",
    "    XTX_inv = np.linalg.inv(XTX)\n",
    "    w_full = XTX_inv.dot(X.T).dot(y)\n",
    "\n",
    "    return w_full[0], w_full[1:]"
   ]
  },
  {
   "cell_type": "code",
   "execution_count": 16,
   "id": "924a59dd",
   "metadata": {},
   "outputs": [],
   "source": [
    "def prepare_X0(df):\n",
    "    df = df.copy()  \n",
    "    df.total_bedrooms = df.total_bedrooms.fillna(0)\n",
    "    df = df.drop(columns = 'median_house_value_trans')\n",
    "    X = df.values\n",
    "    return X"
   ]
  },
  {
   "cell_type": "code",
   "execution_count": 17,
   "id": "a77e4d7e",
   "metadata": {},
   "outputs": [],
   "source": [
    "def rmse(y, y_pred):\n",
    "    se = (y - y_pred) ** 2\n",
    "    mse = se.mean()\n",
    "    return np.sqrt(mse)"
   ]
  },
  {
   "cell_type": "code",
   "execution_count": 18,
   "id": "96730713",
   "metadata": {},
   "outputs": [
    {
     "data": {
      "text/plain": [
       "Index(['longitude', 'latitude', 'housing_median_age', 'total_rooms',\n",
       "       'total_bedrooms', 'population', 'households', 'median_income',\n",
       "       'median_house_value_trans'],\n",
       "      dtype='object')"
      ]
     },
     "execution_count": 18,
     "metadata": {},
     "output_type": "execute_result"
    }
   ],
   "source": [
    "df_train.columns"
   ]
  },
  {
   "cell_type": "code",
   "execution_count": 19,
   "id": "a53530d0",
   "metadata": {},
   "outputs": [
    {
     "data": {
      "text/plain": [
       "0.35"
      ]
     },
     "execution_count": 19,
     "metadata": {},
     "output_type": "execute_result"
    }
   ],
   "source": [
    "X_train = prepare_X0(df_train)\n",
    "w0, w = train_linear_regression(X_train, y_train)\n",
    "\n",
    "X_val = prepare_X0(df_val)\n",
    "y_pred = w0 + X_val.dot(w)\n",
    "rmse_0 = rmse(y_val, y_pred)\n",
    "rmse_0 = round(rmse_0, 2)\n",
    "rmse_0"
   ]
  },
  {
   "cell_type": "code",
   "execution_count": 20,
   "id": "b86f4bcf",
   "metadata": {},
   "outputs": [
    {
     "data": {
      "text/plain": [
       "(9413, 8)"
      ]
     },
     "execution_count": 20,
     "metadata": {},
     "output_type": "execute_result"
    }
   ],
   "source": [
    "X_train.shape"
   ]
  },
  {
   "cell_type": "markdown",
   "id": "e000e059",
   "metadata": {},
   "source": [
    "# entraînement avec remplacement des nan par la moyenne"
   ]
  },
  {
   "cell_type": "code",
   "execution_count": 21,
   "id": "dd287bbd",
   "metadata": {},
   "outputs": [],
   "source": [
    "def prepare_Xm(df):\n",
    "    df = df.copy() \n",
    "    df.total_bedrooms = df.total_bedrooms.fillna(df_train.total_bedrooms.mean())\n",
    "    df = df.drop(columns = 'median_house_value_trans')\n",
    "    X = df.values\n",
    "    return X"
   ]
  },
  {
   "cell_type": "code",
   "execution_count": 22,
   "id": "15f50fb0",
   "metadata": {},
   "outputs": [
    {
     "data": {
      "text/plain": [
       "0.36"
      ]
     },
     "execution_count": 22,
     "metadata": {},
     "output_type": "execute_result"
    }
   ],
   "source": [
    "X_train = prepare_Xm(df_train)\n",
    "w0, w = train_linear_regression(X_train, y_train)\n",
    "\n",
    "X_val = prepare_Xm(df_val)\n",
    "y_pred = w0 + X_val.dot(w)\n",
    "rmse_m = rmse(y_val, y_pred)\n",
    "rmse_m =round( rmse_m, 2)\n",
    "rmse_m"
   ]
  },
  {
   "cell_type": "markdown",
   "id": "266ce313",
   "metadata": {},
   "source": [
    "<span style='font-family:\"Times New Roman\"'><font size=\"4\">le remplacement de valeurs manquantes par 0 donne le meilleur résultat rsme dans ce cas<br /></font></span>"
   ]
  },
  {
   "cell_type": "markdown",
   "id": "1b901c9c",
   "metadata": {},
   "source": [
    "## Q4 regularization "
   ]
  },
  {
   "cell_type": "code",
   "execution_count": 23,
   "id": "a6ca7e59",
   "metadata": {},
   "outputs": [],
   "source": [
    "def train_linear_regression_reg(X, y, r):\n",
    "    ones = np.ones(X.shape[0])\n",
    "    X = np.column_stack([ones, X])\n",
    "\n",
    "    XTX = X.T.dot(X)\n",
    "    XTX = XTX + r * np.eye(XTX.shape[0])\n",
    "\n",
    "    XTX_inv = np.linalg.inv(XTX)\n",
    "    w_full = XTX_inv.dot(X.T).dot(y)\n",
    "\n",
    "    return w_full[0], w_full[1:]"
   ]
  },
  {
   "cell_type": "code",
   "execution_count": 24,
   "id": "a4fb24f1",
   "metadata": {},
   "outputs": [
    {
     "name": "stdout",
     "output_type": "stream",
     "text": [
      "0 -6.0445131343197875 0.3541521929448273\n",
      "1e-06 -6.044492052874693 0.3541522297097735\n",
      "0.0001 -6.042405725303475 0.354155874185268\n",
      "0.001 -6.023504924003499 0.3541889235123104\n",
      "0.01 -5.840799621843583 0.35451143726891515\n",
      "0.1 -4.481271200382945 0.3570829611155623\n",
      "1 -1.344832665482697 0.3641340990419998\n",
      "5 -0.32474859888954355 0.36671326113540637\n",
      "10 -0.16523437458892626 0.36708194148276974\n"
     ]
    }
   ],
   "source": [
    "for r in [0, 0.000001, 0.0001, 0.001, 0.01, 0.1, 1, 5, 10]:\n",
    "    X_train = prepare_X0(df_train)\n",
    "    w0, w = train_linear_regression_reg(X_train, y_train, r=r)\n",
    "\n",
    "    X_val = prepare_X0(df_val)\n",
    "    y_pred = w0 + X_val.dot(w)\n",
    "    score = rmse(y_val, y_pred)\n",
    "\n",
    "    print(r, w0, score)"
   ]
  },
  {
   "cell_type": "markdown",
   "id": "fa27c1f3",
   "metadata": {},
   "source": [
    "<span style='font-family:\"Times New Roman\"'><font size=\"4\">je peux retenir r= 0.0001 ou r = 0.000001 qui minimisent le score sans trop s'éloigner du w0 sans correction qui ic donnr un résultat cohérent. Cependant j'ajoute un r pour évitre tout risque à l'avanie sur l'utilisation du modèle. Comme l'ennoncé indique de privilégier pour ce devoir le plus petit j'appliquerai par la suite r = 0.000006<br /></font></span>"
   ]
  },
  {
   "cell_type": "code",
   "execution_count": 25,
   "id": "886b080c",
   "metadata": {},
   "outputs": [],
   "source": [
    "# r = 0.000001"
   ]
  },
  {
   "cell_type": "markdown",
   "id": "f0388b82",
   "metadata": {},
   "source": [
    "## Q5 impact du choix de seed"
   ]
  },
  {
   "cell_type": "code",
   "execution_count": 26,
   "id": "a7c3b9b1",
   "metadata": {},
   "outputs": [],
   "source": [
    "n = len(dfw)\n",
    "\n",
    "n_val = int(n * 0.2)\n",
    "n_test = int(n * 0.2)\n",
    "n_train = n - n_val - n_test\n",
    "\n",
    "# on va donc devoir mélanger les indiv avant de partitionner\n",
    "idx = np.arange(n)"
   ]
  },
  {
   "cell_type": "code",
   "execution_count": 27,
   "id": "b628b99c",
   "metadata": {},
   "outputs": [],
   "source": [
    "def train_linear_regression(X, y):\n",
    "    ones = np.ones(X.shape[0])\n",
    "    X = np.column_stack([ones, X])\n",
    "\n",
    "# puis éxécuter la définition des pondérations w\n",
    "    XTX = X.T.dot(X)\n",
    "    XTX_inv = np.linalg.inv(XTX)\n",
    "    w_full = XTX_inv.dot(X.T).dot(y)\n",
    "\n",
    "    return w_full[0], w_full[1:]"
   ]
  },
  {
   "cell_type": "code",
   "execution_count": 28,
   "id": "93739aef",
   "metadata": {},
   "outputs": [
    {
     "name": "stdout",
     "output_type": "stream",
     "text": [
      "0 0.3377387160067942\n",
      "1 0.3454820450563977\n",
      "2 0.3322033125381122\n",
      "3 0.33118280913356374\n",
      "4 0.33480237565155974\n",
      "5 0.3334130184720213\n",
      "6 0.3325233483442222\n",
      "7 0.3395291337381445\n",
      "8 0.3308079495284524\n",
      "9 0.34831713447467477\n"
     ]
    }
   ],
   "source": [
    "liste = []\n",
    "for s in [0, 1, 2, 3, 4, 5, 6, 7, 8, 9]:\n",
    "    np.random.seed(s)\n",
    "    np.random.shuffle(idx)\n",
    "    \n",
    "    df_train = dfw.iloc[idx[:n_train]]\n",
    "    df_val = dfw.iloc[idx[n_train:n_train+n_val]]\n",
    "    df_test = dfw.iloc[idx[n_train+n_val:]]\n",
    "    \n",
    "    df_train = df_train.reset_index(drop=True)\n",
    "    df_val = df_val.reset_index(drop=True)\n",
    "    df_test = df_test.reset_index(drop=True)\n",
    "    \n",
    "#variable cible : median value\n",
    "# on récupère les sous df pour la variable cible\n",
    "\n",
    "    y_train = (df_train.median_house_value_trans.values)\n",
    "    y_val = (df_val.median_house_value_trans.values)\n",
    "    y_test = (df_test.median_house_value_trans.values)\n",
    "        \n",
    "    X_train = prepare_X0(df_train)\n",
    "    w0, w = train_linear_regression(X_train, y_train)\n",
    "\n",
    "    X_val = prepare_X0(df_val)\n",
    "    y_pred = w0 + X_val.dot(w)\n",
    "    score = rmse(y_val, y_pred)\n",
    "\n",
    "    liste.append(score)\n",
    "    \n",
    "    print(s, score)\n",
    "    "
   ]
  },
  {
   "cell_type": "code",
   "execution_count": 29,
   "id": "5ebd5193",
   "metadata": {},
   "outputs": [
    {
     "data": {
      "text/plain": [
       "0.005816274776395153"
      ]
     },
     "execution_count": 29,
     "metadata": {},
     "output_type": "execute_result"
    }
   ],
   "source": [
    "np.std(liste)"
   ]
  },
  {
   "cell_type": "code",
   "execution_count": 30,
   "id": "476b2a55",
   "metadata": {},
   "outputs": [
    {
     "data": {
      "text/plain": [
       "0.006"
      ]
     },
     "execution_count": 30,
     "metadata": {},
     "output_type": "execute_result"
    }
   ],
   "source": [
    "round(np.std(liste), 3)"
   ]
  },
  {
   "cell_type": "markdown",
   "id": "9bb65904",
   "metadata": {},
   "source": [
    "## Q6 travail avec une seed s = 9"
   ]
  },
  {
   "cell_type": "code",
   "execution_count": 31,
   "id": "0868f5f0",
   "metadata": {},
   "outputs": [
    {
     "data": {
      "text/plain": [
       "701      12.973866\n",
       "830      12.287657\n",
       "859      12.419574\n",
       "860      12.554971\n",
       "861      12.287196\n",
       "           ...    \n",
       "20635    11.265758\n",
       "20636    11.252872\n",
       "20637    11.432810\n",
       "20638    11.346883\n",
       "20639    11.400887\n",
       "Name: median_house_value_trans, Length: 15687, dtype: float64"
      ]
     },
     "execution_count": 31,
     "metadata": {},
     "output_type": "execute_result"
    }
   ],
   "source": [
    "dfw.median_house_value_trans"
   ]
  },
  {
   "cell_type": "code",
   "execution_count": 32,
   "id": "f84e8951",
   "metadata": {},
   "outputs": [],
   "source": [
    "n = len(dfw)\n",
    "\n",
    "n_val = int(n * 0.2)\n",
    "n_test = int(n * 0.2)\n",
    "n_train = n - n_val - n_test\n",
    "\n",
    "# on va donc devoir mélanger les indiv avant de partitionner\n",
    "idx = np.arange(n)\n",
    "\n",
    "np.random.seed(9)\n",
    "np.random.shuffle(idx)\n",
    "\n",
    "# partionnement\n",
    "df_train = dfw.iloc[:n_train]\n",
    "df_val = dfw.iloc[n_train:n_train+n_val]\n",
    "df_test = dfw.iloc[n_train+n_val:]\n",
    "\n",
    "# pour chaque sous df on réinitialise les index\n",
    "df_train = df_train.reset_index(drop=True)\n",
    "df_val = df_val.reset_index(drop=True)\n",
    "df_test = df_test.reset_index(drop=True)\n",
    "\n",
    "y_train = (df_train.median_house_value_trans.values)\n",
    "y_val = (df_val.median_house_value_trans.values)\n",
    "y_test = (df_test.median_house_value_trans.values)"
   ]
  },
  {
   "cell_type": "code",
   "execution_count": 33,
   "id": "5e0bf306",
   "metadata": {},
   "outputs": [],
   "source": [
    "df_full_train = pd.concat([df_train, df_val])\n",
    "df_full_train = df_full_train.reset_index(drop=True)\n",
    "X_full_train = prepare_X0(df_full_train)"
   ]
  },
  {
   "cell_type": "code",
   "execution_count": 34,
   "id": "2e1dd54d",
   "metadata": {},
   "outputs": [],
   "source": [
    "y_full_train = np.concatenate([y_train, y_val])"
   ]
  },
  {
   "cell_type": "code",
   "execution_count": 35,
   "id": "8c974522",
   "metadata": {},
   "outputs": [],
   "source": [
    "def train_linear_regression_reg(X, y, r):\n",
    "    ones = np.ones(X.shape[0])\n",
    "    X = np.column_stack([ones, X])\n",
    "\n",
    "    XTX = X.T.dot(X)\n",
    "    XTX = XTX + r * np.eye(XTX.shape[0])\n",
    "\n",
    "    XTX_inv = np.linalg.inv(XTX)\n",
    "    w_full = XTX_inv.dot(X.T).dot(y)\n",
    "\n",
    "    return w_full[0], w_full[1:]"
   ]
  },
  {
   "cell_type": "code",
   "execution_count": 36,
   "id": "00e338b3",
   "metadata": {},
   "outputs": [],
   "source": [
    "w0, w = train_linear_regression(X_full_train, y_full_train)"
   ]
  },
  {
   "cell_type": "code",
   "execution_count": 37,
   "id": "7c300153",
   "metadata": {},
   "outputs": [],
   "source": [
    "r = 0.001\n",
    "w0, w = train_linear_regression_reg(X_full_train, y_full_train, r)"
   ]
  },
  {
   "cell_type": "code",
   "execution_count": 38,
   "id": "7136203a",
   "metadata": {},
   "outputs": [
    {
     "data": {
      "text/plain": [
       "0.30707305298675414"
      ]
     },
     "execution_count": 38,
     "metadata": {},
     "output_type": "execute_result"
    }
   ],
   "source": [
    "X_test = prepare_X0(df_test)\n",
    "y_pred = w0 + X_test.dot(w)\n",
    "rmse = rmse(y_test, y_pred)\n",
    "#rmse = round(rmse_0, 2)\n",
    "rmse"
   ]
  }
 ],
 "metadata": {
  "kernelspec": {
   "display_name": "Python 3 (ipykernel)",
   "language": "python",
   "name": "python3"
  },
  "language_info": {
   "codemirror_mode": {
    "name": "ipython",
    "version": 3
   },
   "file_extension": ".py",
   "mimetype": "text/x-python",
   "name": "python",
   "nbconvert_exporter": "python",
   "pygments_lexer": "ipython3",
   "version": "3.11.5"
  },
  "toc": {
   "base_numbering": 1,
   "nav_menu": {},
   "number_sections": true,
   "sideBar": true,
   "skip_h1_title": false,
   "title_cell": "Table of Contents",
   "title_sidebar": "Contents",
   "toc_cell": false,
   "toc_position": {},
   "toc_section_display": true,
   "toc_window_display": false
  }
 },
 "nbformat": 4,
 "nbformat_minor": 5
}
